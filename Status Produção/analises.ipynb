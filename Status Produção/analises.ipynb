{
 "cells": [
  {
   "cell_type": "code",
   "execution_count": 4,
   "id": "87b34022-814a-4e0c-b4d7-c1f71f45a0a0",
   "metadata": {},
   "outputs": [],
   "source": [
    "\n",
    "import pandas as pd\n",
    "import streamlit as st\n",
    "import altair as alt\n",
    "import time as time\n",
    "import datetime as datetime\n",
    "from sqlalchemy.engine import URL\n",
    "from sqlalchemy import create_engine\n",
    "from sqlalchemy import select\n",
    "import pyodbc\n",
    "import openpyxl\n",
    "\n",
    "\n",
    "## Conexão com banco de dados ##\n",
    "\n",
    "# String de conexão\n",
    "connection_url = URL.create(\n",
    "    \"mssql+pyodbc\",\n",
    "    username=\"dafonte\",\n",
    "    password=\"@d123\",\n",
    "    host=\"10.0.1.5\",\n",
    "    database=\"DBDafonte\",\n",
    "    query={\n",
    "        \"driver\": \"SQL Server\",\n",
    "        \"LongAsMax\": \"Yes\",\n",
    "    },\n",
    ")\n",
    "\n",
    "## Engenharia de conexão ##\n",
    "engine = create_engine(\n",
    "    connection_url\n",
    "    )\n",
    "\n",
    "## Query banco ##\n",
    "consulta_sql = '''\n",
    "\n",
    "            SELECT\n",
    "            DESCRMEDIDA as Serviço,\n",
    "            CLIENTE as Cliente,\n",
    "            PV, \n",
    "            COLETA, \n",
    "            ROW_NUMBER() OVER(PARTITION BY COLETA ORDER BY DATAENTRADAPROD ASC) AS Ordem,\n",
    "            LOJA as Loja, \n",
    "            CODIGO as Cód, \n",
    "            LOCALIZACAO as Esteira,\n",
    "            LEFT(DATAENTRADAPROD,3) as Mes,\n",
    "            YEAR(DATAENTRADAPROD) as Ano,\n",
    "            MIN(DATAENTRADAPROD) OVER(PARTITION BY COLETA) AS Entrada, \n",
    "            MAX(DATAENTRADAPROD) OVER(PARTITION BY COLETA) AS Saída,\n",
    "            DATEDIFF(hour,Min(DATAENTRADAPROD) OVER(PARTITION BY COLETA),Max(DATAENTRADAPROD) OVER(PARTITION BY COLETA)) as SLA,\n",
    "            LIBERACAO AS Liberacao,\n",
    "            PLANOPAGT as PlanoPgto,\n",
    "            PRIORIDADE as Prioridade,\n",
    "            VENDEDOR as Vendedor,\n",
    "            CPFCNPJ\n",
    "            FROM DbDafonte.dbo.VW_KPI_VISAO_PNEU_LOCALIZACAO\n",
    "            where YEAR (CONVERT(date, DATAENTRADAPROD, 101)) = YEAR(GETDATE())\n",
    "            AND CLIENTE NOT LIKE '%DAFONTE - LOJA%'\n",
    "\n",
    "              '''\n",
    "## Conversão em DataFrame ##\n",
    "df = pd.read_sql(sql=consulta_sql, con=engine)"
   ]
  },
  {
   "cell_type": "code",
   "execution_count": 6,
   "id": "7d075341-5220-4393-8f43-c15c6629838a",
   "metadata": {},
   "outputs": [],
   "source": [
    "df.head()\n",
    "\n",
    "df.to_excel('PlanilhaProd.xlsx', sheet_name='Produção', engine='openpyxl',index=False)"
   ]
  },
  {
   "cell_type": "code",
   "execution_count": 3,
   "id": "d583339f-fb32-4a16-8885-0308b9052dd2",
   "metadata": {},
   "outputs": [
    {
     "data": {
      "text/plain": [
       "Serviço               object\n",
       "Cliente               object\n",
       "PV                     int64\n",
       "COLETA                 int64\n",
       "Ordem                  int64\n",
       "Loja                   int64\n",
       "Cód                    int64\n",
       "Esteira               object\n",
       "Mes                   object\n",
       "Ano                    int64\n",
       "Entrada       datetime64[ns]\n",
       "Saída         datetime64[ns]\n",
       "SLA                    int64\n",
       "Liberacao             object\n",
       "PlanoPgto             object\n",
       "Prioridade            object\n",
       "Vendedor              object\n",
       "CPFCNPJ               object\n",
       "dtype: object"
      ]
     },
     "execution_count": 3,
     "metadata": {},
     "output_type": "execute_result"
    }
   ],
   "source": [
    "st.download_button(\n",
    "    label=\"Download data as CSV\",\n",
    "    data=csv,\n",
    "    file_name='large_df.csv',\n",
    "    mime='text/csv',\n",
    ")"
   ]
  }
 ],
 "metadata": {
  "kernelspec": {
   "display_name": "Python 3 (ipykernel)",
   "language": "python",
   "name": "python3"
  },
  "language_info": {
   "codemirror_mode": {
    "name": "ipython",
    "version": 3
   },
   "file_extension": ".py",
   "mimetype": "text/x-python",
   "name": "python",
   "nbconvert_exporter": "python",
   "pygments_lexer": "ipython3",
   "version": "3.11.5"
  }
 },
 "nbformat": 4,
 "nbformat_minor": 5
}
